{
 "cells": [
  {
   "cell_type": "markdown",
   "id": "8017942c",
   "metadata": {},
   "source": [
    "# Starting point\n",
    "\n",
    "Physical processes:\n",
    "\n",
    "- Gravity\n",
    "- Radiation pressure \n",
    "- Gas cooling\n",
    "\n",
    "\n",
    "Hypothesis:\n",
    "\n",
    "- Star formation is the the result of the conversion of the gas mass.\n",
    "\n",
    "Model:\n",
    "\n",
    "- We haved a closed box model: the total mass remains constant.\n",
    "- The coefficent that gives us the efficiency in time of the conversion of the gas mass is called $\\varepsilon$.\n",
    "\n",
    "Physical Variables:\n",
    "\n",
    "- $M_{gas}$\n",
    "- $M_{galaxy}$\n",
    "- $M $\n",
    "- $ \\varepsilon $"
   ]
  },
  {
   "cell_type": "markdown",
   "id": "53c8c62d",
   "metadata": {},
   "source": [
    "$$ SFR = \\frac{dM_{Stellar}}{dt} $$\n",
    "\n",
    "$$ M_{stellar} = \\int^t_0 SFR (t') dt'$$"
   ]
  },
  {
   "cell_type": "markdown",
   "id": "94864a33",
   "metadata": {},
   "source": [
    "We call the coefficient that relates $M_{gas}$ with the $SFR$ $ \\varepsilon $ :\n",
    "\n",
    "$$ SFR(t) = \\varepsilon M_{gas}(t) $$"
   ]
  },
  {
   "cell_type": "markdown",
   "id": "b12f3f6e",
   "metadata": {},
   "source": [
    "We assumed a closed box model where $M_{tot}$ is fixed. There is no exchange of matter with the universe.\n",
    "This means that $M_{tot}$ is a constant.\n",
    "\n",
    "$$ SFR = - \\frac{dM_{gas}}{dt} = \\varepsilon M_{gas}(t) $$\n",
    "\n",
    "Solving this differential equation we get \n",
    "\n",
    "$$ M_{gas}(t) = e^{-\\varepsilon t} M_{gas}(t=0) $$\n",
    "\n",
    "$$ SFR(t) = \\varepsilon e^{-\\varepsilon t} M_{tot} $$"
   ]
  },
  {
   "cell_type": "markdown",
   "id": "46cac583",
   "metadata": {},
   "source": [
    "If we substitute the formula we just got for the $SFR$ into the integral for the $M_{Stellar}$ we get\n",
    "\n",
    "$$ M_{stellar} = \\int^t_0 \\varepsilon e^{-\\varepsilon t'} M_{tot} dt'$$\n",
    "\n",
    "$$ M_{stellar} = M_{tot}\\left ( 1 - e^{- \\varepsilon t} \\right ) $$\n",
    "\n",
    "The Specific $SFR$ then becomes \n",
    "\n",
    "$$ \\frac{SFR}{M_{Stellar}} =  \\frac{\\varepsilon e^{-\\varepsilon t}}{\\left ( 1 - e^{- \\varepsilon t} \\right )}$$\n",
    "\n",
    "where the only free parameter are $\\varepsilon$ and $t$ ."
   ]
  }
 ],
 "metadata": {
  "kernelspec": {
   "display_name": "Python 3 (ipykernel)",
   "language": "python",
   "name": "python3"
  },
  "language_info": {
   "codemirror_mode": {
    "name": "ipython",
    "version": 3
   },
   "file_extension": ".py",
   "mimetype": "text/x-python",
   "name": "python",
   "nbconvert_exporter": "python",
   "pygments_lexer": "ipython3",
   "version": "3.11.2"
  }
 },
 "nbformat": 4,
 "nbformat_minor": 5
}
